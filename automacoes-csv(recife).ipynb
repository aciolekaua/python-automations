{
 "cells": [
  {
   "cell_type": "code",
   "execution_count": 5,
   "id": "8c2f5b76-722f-4c06-91a7-d1ff0e310140",
   "metadata": {},
   "outputs": [],
   "source": [
    "import pandas as pd\n",
    "import glob\n",
    "\n",
    "# Diretório onde estão os arquivos CSV\n",
    "diretorio = './csv'\n",
    "\n",
    "# Lista todos os arquivos CSV no diretório\n",
    "arquivos_csv = glob.glob(diretorio + '/*.csv')\n",
    "\n",
    "# Lista para armazenar DataFrames individuais de cada arquivo\n",
    "dfs = []\n",
    "\n",
    "# Loop através de cada arquivo CSV\n",
    "for arquivo in arquivos_csv:\n",
    "    # Leitura do arquivo CSV\n",
    "    df = pd.read_csv(arquivo, delimiter=';',encoding='unicode_escape')\n",
    "    \n",
    "    # Seleção das colunas desejadas\n",
    "    colunas_desejadas = ['Nº da Nota Fiscal Eletrônica', 'Status da Nota Fiscal', 'Data da Emissão NFS-e/DSR-e',\n",
    "                         'CPF/CNPJ do Prestador', 'Razão Social do Prestador', 'CPF/CNPJ do Tomador',\n",
    "                         'Inscrição Municipal do Tomador', 'Inscrição Estadual do Tomador', 'Razão Social do Tomador',\n",
    "                         'Código de Atividade Federal', 'Código de Atividade Municipal', 'Alíquota',\n",
    "                         'Valor dos Serviços', 'Valor do ISS', 'ISS Retido']\n",
    "    \n",
    "    # Criação de um novo DataFrame com as colunas selecionadas\n",
    "    df_novo = df[colunas_desejadas]\n",
    "    \n",
    "    # Adiciona o DataFrame atual à lista\n",
    "    dfs.append(df_novo)\n",
    "\n",
    "# Concatena todos os DataFrames da lista em um único DataFrame\n",
    "df_resultado = pd.concat(dfs, ignore_index=True)\n",
    "\n",
    "# Nome do arquivo de resultado\n",
    "nome_arquivo_resultado = diretorio + '/planilhaMaio.xlsx'\n",
    "\n",
    "# Escrita do arquivo de resultado\n",
    "df_resultado.to_excel(nome_arquivo_resultado, index=False)"
   ]
  },
  {
   "cell_type": "code",
   "execution_count": null,
   "id": "9edab1a4-809e-4623-8b79-2a0bafc4481b",
   "metadata": {},
   "outputs": [],
   "source": []
  }
 ],
 "metadata": {
  "kernelspec": {
   "display_name": "Python 3 (ipykernel)",
   "language": "python",
   "name": "python3"
  },
  "language_info": {
   "codemirror_mode": {
    "name": "ipython",
    "version": 3
   },
   "file_extension": ".py",
   "mimetype": "text/x-python",
   "name": "python",
   "nbconvert_exporter": "python",
   "pygments_lexer": "ipython3",
   "version": "3.11.7"
  }
 },
 "nbformat": 4,
 "nbformat_minor": 5
}
